{
 "cells": [
  {
   "cell_type": "code",
   "execution_count": 1,
   "metadata": {},
   "outputs": [],
   "source": [
    "import numpy as np\n",
    "import pandas as pd\n",
    "from pandas import Series, DataFrame\n",
    "import matplotlib.pyplot as plt\n",
    "import scipy as sp\n",
    "from scipy import stats\n",
    "%matplotlib notebook"
   ]
  },
  {
   "cell_type": "code",
   "execution_count": 2,
   "metadata": {},
   "outputs": [],
   "source": [
    "def koval1(log_mean, log_sd, mean_nor, sd, sizen):\n",
    "    \"\"\"\n",
    "    This function uses the definition of both the mean and st of the lognormal\n",
    "    distribution.\n",
    "    mean_nor = mean of normal distribution\n",
    "    sd = standard deviation of normal pdf. Let be sd < mean_nor/3\n",
    "    \"\"\"\n",
    "\n",
    "    # Obtain the mean and std in terms of the normal pdf\n",
    "    normal_std = np.sqrt(np.log(1 + (log_sd/log_mean)**2))\n",
    "    normal_mean = np.log(log_mean) - normal_std**2 / 2\n",
    "    \n",
    "    # Create DataFrame and permeability and porosity columns\n",
    "    x = pd.DataFrame(np.random.lognormal(normal_mean, normal_std, size=sizen), columns=['permeability'])\n",
    "    x['porosity'] = np.random.normal(mean_nor, sd, size=sizen)\n",
    "    \n",
    "    # Obtain the total sum of both permeability and porosity\n",
    "    sumk = x['permeability'].sum()\n",
    "    sumphi = x['porosity'].sum()\n",
    "    x['interst vel'] = x['permeability'] / x['porosity'] # Interstitial velocity\n",
    "    \n",
    "    # Sort the interstitial velocity in descending order\n",
    "    x.sort_values(by=['interst vel'], ascending=False, inplace=True)\n",
    "    \n",
    "    k1 = np.cumsum(pd.DataFrame(x['permeability']))\n",
    "    phi1 = np.cumsum(pd.DataFrame(x['porosity']))\n",
    "    x['(1-F)/F'] = (sumk / k1) - 1\n",
    "    x['(1-C)/C'] = (sumphi / phi1) - 1\n",
    "    x.replace(x[x < 1e-5], 0, inplace=True)\n",
    "    x.drop(['interst vel'], axis=1, inplace=True)\n",
    "    \n",
    "    x['series phi'] = np.cumsum(1 / phi1) # sum of (1/phi1) + (1/(phi1 + phi2)) + ...\n",
    "    x['series k'] = np.cumsum(1 / k1) # sum of (1/k1) + (1/(k1 + k2)) + ...\n",
    "    \n",
    "    # Linear regression\n",
    "    slope, intercept, r_value, p_value, std_err = stats.linregress(\n",
    "    x['(1-C)/C'], x['(1-F)/F'])\n",
    "\n",
    "    return x, r_value ** 2, p_value"
   ]
  },
  {
   "cell_type": "code",
   "execution_count": 3,
   "metadata": {},
   "outputs": [],
   "source": [
    "def koval2(mean_exp, mean_nor, sd, sizen):\n",
    "    \"\"\"\n",
    "    This function uses the quantile function of the exponential distribution\n",
    "    to compute the random variable of the x axis.\n",
    "    mean_exp = mean of exponential distribution\n",
    "    mean_nor = mean of normal distribution\n",
    "    sd = standard deviation of normal pdf. Let be sd < mean_nor/3\n",
    "    \"\"\"\n",
    "    \n",
    "    # Create DataFrame and permeability and porosity columns\n",
    "    x = pd.DataFrame(np.random.exponential(mean_exp, size=sizen), columns=['permeability'])\n",
    "    x['porosity'] = np.random.normal(mean_nor, sd, size=sizen)\n",
    "    \n",
    "    # Obtain the total sum of both permeability and porosity\n",
    "    sumk = x['permeability'].sum()\n",
    "    sumphi = x['porosity'].sum()\n",
    "    x['interst vel'] = x['permeability'] / x['porosity'] # Interstitial velocity\n",
    "    \n",
    "    # Sort the interstitial velocity in descending order\n",
    "    x.sort_values(by=['interst vel'], ascending=False, inplace=True)\n",
    "    \n",
    "    k1 = np.cumsum(pd.DataFrame(x['permeability']))\n",
    "    phi1 = np.cumsum(pd.DataFrame(x['porosity']))\n",
    "    x['(1-F)/F'] = (sumk / k1) - 1\n",
    "    x['(1-C)/C'] = (sumphi / phi1) - 1\n",
    "    x.replace(x[x < 1e-5], 0, inplace=True)\n",
    "    x.drop(['interst vel'], axis=1, inplace=True)\n",
    "    \n",
    "    x['series phi'] = np.cumsum(1 / phi1) # sum of (1/phi1) + (1/(phi1 + phi2)) + ...\n",
    "    x['series k'] = np.cumsum(1 / k1) # sum of (1/k1) + (1/(k1 + k2)) + ...\n",
    "    \n",
    "    # Linear regression\n",
    "    slope, intercept, r_value, p_value, std_err = stats.linregress(\n",
    "    x['(1-C)/C'], x['(1-F)/F'])\n",
    "\n",
    "    return x, r_value ** 2, p_value"
   ]
  },
  {
   "cell_type": "code",
   "execution_count": 4,
   "metadata": {},
   "outputs": [],
   "source": [
    "def koval3(log_mean, log_sd, mean, beta, sizen):\n",
    "    \"\"\"\n",
    "    This function uses the beta pdf for permeability\n",
    "    mean_exp = mean of exponential distribution\n",
    "    mean_nor = mean of normal distribution\n",
    "    sd = standard deviation of normal pdf. Let be sd < mean_nor/3\n",
    "    \"\"\"\n",
    "    \n",
    "    # Create DataFrame and permeability and porosity columns\n",
    "    alpha = - (mean * beta) / (mean - 1)\n",
    "    normal_std = np.sqrt(np.log(1 + (log_sd/log_mean)**2))\n",
    "    normal_mean = np.log(log_mean) - normal_std**2 / 2\n",
    "    \n",
    "    x = pd.DataFrame(np.random.beta(alpha, beta, size=sizen), columns=['porosity'])\n",
    "    x['permeability'] = np.random.lognormal(normal_mean, normal_std, size=sizen)\n",
    "\n",
    "    \n",
    "    # Obtain the total sum of both permeability and porosity\n",
    "    sumk = x['permeability'].sum()\n",
    "    sumphi = x['porosity'].sum()\n",
    "    x['interst vel'] = x['permeability'] / x['porosity'] # Interstitial velocity\n",
    "    \n",
    "    # Sort the interstitial velocity in descending order\n",
    "    x.sort_values(by=['interst vel'], ascending=False, inplace=True)\n",
    "    \n",
    "    k1 = np.cumsum(pd.DataFrame(x['permeability']))\n",
    "    phi1 = np.cumsum(pd.DataFrame(x['porosity']))\n",
    "    x['(1-F)/F'] = (sumk / k1) - 1\n",
    "    x['(1-C)/C'] = (sumphi / phi1) - 1\n",
    "    x.where(x > 0, 0, inplace=True)\n",
    "    x.drop(['interst vel'], axis=1, inplace=True)\n",
    "    \n",
    "    x['series phi'] = np.cumsum(1 / phi1) # sum of (1/phi1) + (1/(phi1 + phi2)) + ...\n",
    "    x['series k'] = np.cumsum(1 / k1) # sum of (1/k1) + (1/(k1 + k2)) + ...\n",
    "    \n",
    "    # Linear regression\n",
    "    slope, intercept, r_value, p_value, std_err = stats.linregress(\n",
    "    x['(1-C)/C'], x['(1-F)/F'])\n",
    "\n",
    "    return x, r_value ** 2, p_value"
   ]
  },
  {
   "cell_type": "code",
   "execution_count": 4,
   "metadata": {},
   "outputs": [],
   "source": [
    "def koval4(mean_k, scale_k, mean_phi, scale_phi, sizen):\n",
    "    \"\"\"\n",
    "    Porosity is weibull\n",
    "    Permeability is gamma\n",
    "    \"\"\"\n",
    "    \n",
    "    # Create DataFrame and permeability and porosity columns\n",
    "    shape_k = mean_k / scale_k\n",
    "    \n",
    "    x = pd.DataFrame(np.random.logistic(mean_phi, scale_phi, size=sizen), columns=['porosity'])\n",
    "    x['permeability'] = np.random.gamma(shape_k, scale_k, size=sizen)\n",
    "\n",
    "    \n",
    "    # Obtain the total sum of both permeability and porosity\n",
    "    sumk = x['permeability'].sum()\n",
    "    sumphi = x['porosity'].sum()\n",
    "    x['interst vel'] = x['permeability'] / x['porosity'] # Interstitial velocity\n",
    "    \n",
    "    # Sort the interstitial velocity in descending order\n",
    "    x.sort_values(by=['interst vel'], ascending=False, inplace=True)\n",
    "    \n",
    "    k1 = np.cumsum(pd.DataFrame(x['permeability']))\n",
    "    phi1 = np.cumsum(pd.DataFrame(x['porosity']))\n",
    "    x['(1-F)/F'] = (sumk / k1) - 1\n",
    "    x['(1-C)/C'] = (sumphi / phi1) - 1\n",
    "    x.where(x > 0, 0, inplace=True)\n",
    "    x.drop(['interst vel'], axis=1, inplace=True)\n",
    "    \n",
    "    x['series phi'] = np.cumsum(1 / phi1) # sum of (1/phi1) + (1/(phi1 + phi2)) + ...\n",
    "    x['series k'] = np.cumsum(1 / k1) # sum of (1/k1) + (1/(k1 + k2)) + ...\n",
    "    \n",
    "    # Linear regression\n",
    "    slope, intercept, r_value, p_value, std_err = stats.linregress(\n",
    "    x['(1-C)/C'], x['(1-F)/F'])\n",
    "\n",
    "    return x, r_value ** 2, p_value"
   ]
  },
  {
   "cell_type": "markdown",
   "metadata": {},
   "source": [
    "## Permeability is lognormal, Porosity is normal"
   ]
  },
  {
   "cell_type": "code",
   "execution_count": 27,
   "metadata": {},
   "outputs": [],
   "source": [
    "kv1 = koval1(95.65, 90, 0.25, 0.03, 10000)"
   ]
  },
  {
   "cell_type": "code",
   "execution_count": 9,
   "metadata": {},
   "outputs": [],
   "source": [
    "plt.style.use('seaborn-whitegrid')"
   ]
  },
  {
   "cell_type": "code",
   "execution_count": 22,
   "metadata": {},
   "outputs": [
    {
     "data": {
      "image/png": "[encoded data removed]",
      "text/plain": [
       "<Figure size 432x288 with 1 Axes>"
      ]
     },
     "metadata": {},
     "output_type": "display_data"
    }
   ],
   "source": [
    "fig, ax = plt.subplots(1)\n",
    "\n",
    "ax.plot(kv1['(1-C)/C'], kv1['(1-F)/F'])\n",
    "ax.set(xlim=(0, 1e4), ylim=(0, 600));"
   ]
  },
  {
   "cell_type": "markdown",
   "metadata": {},
   "source": [
    "## Permeability is exponential, Porosity is normal"
   ]
  },
  {
   "cell_type": "code",
   "execution_count": 49,
   "metadata": {},
   "outputs": [],
   "source": [
    "np.random.seed(12345)\n",
    "kv2, r2, p2 = koval2(95.65, 0.25, 0.03, 1000000)"
   ]
  },
  {
   "cell_type": "code",
   "execution_count": 50,
   "metadata": {},
   "outputs": [
    {
     "data": {
      "text/plain": [
       "(0.9899091652099733, 0.0)"
      ]
     },
     "execution_count": 50,
     "metadata": {},
     "output_type": "execute_result"
    }
   ],
   "source": [
    "r2, p2"
   ]
  },
  {
   "cell_type": "code",
   "execution_count": 53,
   "metadata": {},
   "outputs": [],
   "source": [
    "np.random.seed(12345)\n",
    "kv2, r2, p2 = koval2(95.65, 0.25, 0.03, 100)"
   ]
  },
  {
   "cell_type": "code",
   "execution_count": 54,
   "metadata": {},
   "outputs": [
    {
     "data": {
      "text/plain": [
       "(0.9884480598119004, 9.501302156504885e-97)"
      ]
     },
     "execution_count": 54,
     "metadata": {},
     "output_type": "execute_result"
    }
   ],
   "source": [
    "r2, p2"
   ]
  },
  {
   "cell_type": "markdown",
   "metadata": {},
   "source": [
    "## Permeability is lognormal, Porosity is beta"
   ]
  },
  {
   "cell_type": "code",
   "execution_count": 119,
   "metadata": {},
   "outputs": [],
   "source": [
    "np.random.seed(12345)\n",
    "kv3, r3, p3 = koval3(95.65, 90, 0.25, 50, 25)"
   ]
  },
  {
   "cell_type": "code",
   "execution_count": 120,
   "metadata": {},
   "outputs": [
    {
     "data": {
      "text/plain": [
       "(0.9993081904695766, 7.522124254107052e-38)"
      ]
     },
     "execution_count": 120,
     "metadata": {},
     "output_type": "execute_result"
    }
   ],
   "source": [
    "r3, p3"
   ]
  },
  {
   "cell_type": "code",
   "execution_count": 121,
   "metadata": {},
   "outputs": [
    {
     "data": {
      "text/html": [
       "<div>\n",
       "<style scoped>\n",
       "    .dataframe tbody tr th:only-of-type {\n",
       "        vertical-align: middle;\n",
       "    }\n",
       "\n",
       "    .dataframe tbody tr th {\n",
       "        vertical-align: top;\n",
       "    }\n",
       "\n",
       "    .dataframe thead th {\n",
       "        text-align: right;\n",
       "    }\n",
       "</style>\n",
       "<table border=\"1\" class=\"dataframe\">\n",
       "  <thead>\n",
       "    <tr style=\"text-align: right;\">\n",
       "      <th></th>\n",
       "      <th>porosity</th>\n",
       "      <th>permeability</th>\n",
       "      <th>(1-F)/F</th>\n",
       "      <th>(1-C)/C</th>\n",
       "      <th>series phi</th>\n",
       "      <th>series k</th>\n",
       "    </tr>\n",
       "  </thead>\n",
       "  <tbody>\n",
       "    <tr>\n",
       "      <th>count</th>\n",
       "      <td>25.000000</td>\n",
       "      <td>25.000000</td>\n",
       "      <td>25.000000</td>\n",
       "      <td>25.000000</td>\n",
       "      <td>25.000000</td>\n",
       "      <td>25.000000</td>\n",
       "    </tr>\n",
       "    <tr>\n",
       "      <th>mean</th>\n",
       "      <td>0.265870</td>\n",
       "      <td>104.741860</td>\n",
       "      <td>0.864594</td>\n",
       "      <td>3.507473</td>\n",
       "      <td>13.704862</td>\n",
       "      <td>0.012308</td>\n",
       "    </tr>\n",
       "    <tr>\n",
       "      <th>std</th>\n",
       "      <td>0.060630</td>\n",
       "      <td>95.509999</td>\n",
       "      <td>1.960195</td>\n",
       "      <td>7.940869</td>\n",
       "      <td>2.897260</td>\n",
       "      <td>0.003891</td>\n",
       "    </tr>\n",
       "    <tr>\n",
       "      <th>min</th>\n",
       "      <td>0.166566</td>\n",
       "      <td>19.965567</td>\n",
       "      <td>0.000000</td>\n",
       "      <td>0.000000</td>\n",
       "      <td>6.003638</td>\n",
       "      <td>0.004074</td>\n",
       "    </tr>\n",
       "    <tr>\n",
       "      <th>25%</th>\n",
       "      <td>0.226109</td>\n",
       "      <td>44.508543</td>\n",
       "      <td>0.076479</td>\n",
       "      <td>0.344015</td>\n",
       "      <td>12.269824</td>\n",
       "      <td>0.009648</td>\n",
       "    </tr>\n",
       "    <tr>\n",
       "      <th>50%</th>\n",
       "      <td>0.247576</td>\n",
       "      <td>71.322928</td>\n",
       "      <td>0.251531</td>\n",
       "      <td>0.999134</td>\n",
       "      <td>14.498630</td>\n",
       "      <td>0.012835</td>\n",
       "    </tr>\n",
       "    <tr>\n",
       "      <th>75%</th>\n",
       "      <td>0.302611</td>\n",
       "      <td>131.224412</td>\n",
       "      <td>0.681987</td>\n",
       "      <td>2.560734</td>\n",
       "      <td>15.929838</td>\n",
       "      <td>0.015446</td>\n",
       "    </tr>\n",
       "    <tr>\n",
       "      <th>max</th>\n",
       "      <td>0.437490</td>\n",
       "      <td>391.978946</td>\n",
       "      <td>9.667569</td>\n",
       "      <td>38.904610</td>\n",
       "      <td>16.953701</td>\n",
       "      <td>0.017802</td>\n",
       "    </tr>\n",
       "  </tbody>\n",
       "</table>\n",
       "</div>"
      ],
      "text/plain": [
       "        porosity  permeability    (1-F)/F    (1-C)/C  series phi   series k\n",
       "count  25.000000     25.000000  25.000000  25.000000   25.000000  25.000000\n",
       "mean    0.265870    104.741860   0.864594   3.507473   13.704862   0.012308\n",
       "std     0.060630     95.509999   1.960195   7.940869    2.897260   0.003891\n",
       "min     0.166566     19.965567   0.000000   0.000000    6.003638   0.004074\n",
       "25%     0.226109     44.508543   0.076479   0.344015   12.269824   0.009648\n",
       "50%     0.247576     71.322928   0.251531   0.999134   14.498630   0.012835\n",
       "75%     0.302611    131.224412   0.681987   2.560734   15.929838   0.015446\n",
       "max     0.437490    391.978946   9.667569  38.904610   16.953701   0.017802"
      ]
     },
     "execution_count": 121,
     "metadata": {},
     "output_type": "execute_result"
    }
   ],
   "source": [
    "kv3.describe()"
   ]
  },
  {
   "cell_type": "markdown",
   "metadata": {},
   "source": [
    "## Permeability is gamma, Porosity is logistic"
   ]
  },
  {
   "cell_type": "code",
   "execution_count": 21,
   "metadata": {},
   "outputs": [],
   "source": [
    "np.random.seed(12345)\n",
    "kv4, r4, p4 = koval4(95.65, 0.5, 0.25, 0.005, 4)"
   ]
  },
  {
   "cell_type": "code",
   "execution_count": 22,
   "metadata": {},
   "outputs": [
    {
     "data": {
      "text/html": [
       "<div>\n",
       "<style scoped>\n",
       "    .dataframe tbody tr th:only-of-type {\n",
       "        vertical-align: middle;\n",
       "    }\n",
       "\n",
       "    .dataframe tbody tr th {\n",
       "        vertical-align: top;\n",
       "    }\n",
       "\n",
       "    .dataframe thead th {\n",
       "        text-align: right;\n",
       "    }\n",
       "</style>\n",
       "<table border=\"1\" class=\"dataframe\">\n",
       "  <thead>\n",
       "    <tr style=\"text-align: right;\">\n",
       "      <th></th>\n",
       "      <th>porosity</th>\n",
       "      <th>permeability</th>\n",
       "      <th>(1-F)/F</th>\n",
       "      <th>(1-C)/C</th>\n",
       "      <th>series phi</th>\n",
       "      <th>series k</th>\n",
       "    </tr>\n",
       "  </thead>\n",
       "  <tbody>\n",
       "    <tr>\n",
       "      <th>3</th>\n",
       "      <td>0.243210</td>\n",
       "      <td>104.357145</td>\n",
       "      <td>3.028586</td>\n",
       "      <td>3.090342</td>\n",
       "      <td>4.111676</td>\n",
       "      <td>0.009582</td>\n",
       "    </tr>\n",
       "    <tr>\n",
       "      <th>1</th>\n",
       "      <td>0.246148</td>\n",
       "      <td>105.438341</td>\n",
       "      <td>1.003912</td>\n",
       "      <td>1.032893</td>\n",
       "      <td>6.155172</td>\n",
       "      <td>0.014349</td>\n",
       "    </tr>\n",
       "    <tr>\n",
       "      <th>0</th>\n",
       "      <td>0.262904</td>\n",
       "      <td>109.720190</td>\n",
       "      <td>0.315778</td>\n",
       "      <td>0.322428</td>\n",
       "      <td>7.484497</td>\n",
       "      <td>0.017479</td>\n",
       "    </tr>\n",
       "    <tr>\n",
       "      <th>2</th>\n",
       "      <td>0.242550</td>\n",
       "      <td>100.896097</td>\n",
       "      <td>0.000000</td>\n",
       "      <td>0.000000</td>\n",
       "      <td>8.489713</td>\n",
       "      <td>0.019857</td>\n",
       "    </tr>\n",
       "  </tbody>\n",
       "</table>\n",
       "</div>"
      ],
      "text/plain": [
       "   porosity  permeability   (1-F)/F   (1-C)/C  series phi  series k\n",
       "3  0.243210    104.357145  3.028586  3.090342    4.111676  0.009582\n",
       "1  0.246148    105.438341  1.003912  1.032893    6.155172  0.014349\n",
       "0  0.262904    109.720190  0.315778  0.322428    7.484497  0.017479\n",
       "2  0.242550    100.896097  0.000000  0.000000    8.489713  0.019857"
      ]
     },
     "execution_count": 22,
     "metadata": {},
     "output_type": "execute_result"
    }
   ],
   "source": [
    "kv4"
   ]
  },
  {
   "cell_type": "code",
   "execution_count": 26,
   "metadata": {},
   "outputs": [
    {
     "data": {
      "text/plain": [
       "8.445662637470162"
      ]
     },
     "execution_count": 26,
     "metadata": {},
     "output_type": "execute_result"
    }
   ],
   "source": [
    "kv4.iloc[-1, 4] * kv4['porosity'].sum()"
   ]
  },
  {
   "cell_type": "code",
   "execution_count": 27,
   "metadata": {},
   "outputs": [
    {
     "data": {
      "text/plain": [
       "(0.9999907755599872, 4.612230642742086e-06)"
      ]
     },
     "execution_count": 27,
     "metadata": {},
     "output_type": "execute_result"
    }
   ],
   "source": [
    "r4, p4"
   ]
  },
  {
   "cell_type": "code",
   "execution_count": 179,
   "metadata": {},
   "outputs": [
    {
     "data": {
      "text/plain": [
       "(array([  1.,   0.,   0.,   0.,   0.,   1.,   0.,   0.,   0.,   1.,   0.,\n",
       "          1.,   0.,   1.,   0.,   1.,   0.,   1.,   1.,   1.,   1.,   1.,\n",
       "          1.,   1.,   2.,   1.,   2.,   1.,   2.,   3.,   2.,   3.,   2.,\n",
       "          4.,   3.,   4.,   4.,   4.,   5.,   5.,   6.,   6.,   7.,   8.,\n",
       "          8.,   9.,  10.,  11.,  11.,  13.,  14.,  15.,  17.,  18.,  20.,\n",
       "         21.,  24.,  25.,  28.,  31.,  33.,  35.,  40.,  42.,  47.,  50.,\n",
       "         55.,  60.,  65.,  70.,  77.,  84.,  90.,  99., 106., 116., 126.,\n",
       "        137., 147., 161., 174., 188., 204., 221., 239., 258., 280., 302.,\n",
       "        327., 353., 381., 412., 443., 479., 515., 555., 598., 641., 689.,\n",
       "        739.]),\n",
       " array([0.0087747 , 0.00957289, 0.01037107, 0.01116925, 0.01196743,\n",
       "        0.01276562, 0.0135638 , 0.01436198, 0.01516016, 0.01595835,\n",
       "        0.01675653, 0.01755471, 0.0183529 , 0.01915108, 0.01994926,\n",
       "        0.02074744, 0.02154563, 0.02234381, 0.02314199, 0.02394017,\n",
       "        0.02473836, 0.02553654, 0.02633472, 0.02713291, 0.02793109,\n",
       "        0.02872927, 0.02952745, 0.03032564, 0.03112382, 0.031922  ,\n",
       "        0.03272018, 0.03351837, 0.03431655, 0.03511473, 0.03591291,\n",
       "        0.0367111 , 0.03750928, 0.03830746, 0.03910565, 0.03990383,\n",
       "        0.04070201, 0.04150019, 0.04229838, 0.04309656, 0.04389474,\n",
       "        0.04469292, 0.04549111, 0.04628929, 0.04708747, 0.04788566,\n",
       "        0.04868384, 0.04948202, 0.0502802 , 0.05107839, 0.05187657,\n",
       "        0.05267475, 0.05347293, 0.05427112, 0.0550693 , 0.05586748,\n",
       "        0.05666567, 0.05746385, 0.05826203, 0.05906021, 0.0598584 ,\n",
       "        0.06065658, 0.06145476, 0.06225294, 0.06305113, 0.06384931,\n",
       "        0.06464749, 0.06544568, 0.06624386, 0.06704204, 0.06784022,\n",
       "        0.06863841, 0.06943659, 0.07023477, 0.07103295, 0.07183114,\n",
       "        0.07262932, 0.0734275 , 0.07422568, 0.07502387, 0.07582205,\n",
       "        0.07662023, 0.07741842, 0.0782166 , 0.07901478, 0.07981296,\n",
       "        0.08061115, 0.08140933, 0.08220751, 0.08300569, 0.08380388,\n",
       "        0.08460206, 0.08540024, 0.08619843, 0.08699661, 0.08779479,\n",
       "        0.08859297]),\n",
       " <a list of 100 Patch objects>)"
      ]
     },
     "execution_count": 179,
     "metadata": {},
     "output_type": "execute_result"
    },
    {
     "data": {
      "image/png": "[encoded data removed]",
      "text/plain": [
       "<Figure size 432x288 with 1 Axes>"
      ]
     },
     "metadata": {},
     "output_type": "display_data"
    }
   ],
   "source": [
    "titi = plt.figure()\n",
    "plt.hist(kv4['series k'], bins=100)"
   ]
  },
  {
   "cell_type": "code",
   "execution_count": 33,
   "metadata": {},
   "outputs": [
    {
     "data": {
      "text/plain": [
       "array([[0., 0., 0., 0.],\n",
       "       [0., 0., 0., 0.],\n",
       "       [0., 0., 0., 0.],\n",
       "       [0., 0., 0., 0.],\n",
       "       [0., 0., 0., 0.]])"
      ]
     },
     "execution_count": 33,
     "metadata": {},
     "output_type": "execute_result"
    }
   ],
   "source": [
    "np.zeros((5, 4))"
   ]
  },
  {
   "cell_type": "code",
   "execution_count": 34,
   "metadata": {},
   "outputs": [],
   "source": [
    "KLR = pd.DataFrame(np.zeros((10, 4)),\n",
    "                      columns=['Slope', 'Intercept', 'P value', 'R^2']) # initializing DataFrame of results"
   ]
  },
  {
   "cell_type": "code",
   "execution_count": 35,
   "metadata": {},
   "outputs": [
    {
     "data": {
      "text/html": [
       "<div>\n",
       "<style scoped>\n",
       "    .dataframe tbody tr th:only-of-type {\n",
       "        vertical-align: middle;\n",
       "    }\n",
       "\n",
       "    .dataframe tbody tr th {\n",
       "        vertical-align: top;\n",
       "    }\n",
       "\n",
       "    .dataframe thead th {\n",
       "        text-align: right;\n",
       "    }\n",
       "</style>\n",
       "<table border=\"1\" class=\"dataframe\">\n",
       "  <thead>\n",
       "    <tr style=\"text-align: right;\">\n",
       "      <th></th>\n",
       "      <th>Slope</th>\n",
       "      <th>Intercept</th>\n",
       "      <th>P value</th>\n",
       "      <th>R^2</th>\n",
       "    </tr>\n",
       "  </thead>\n",
       "  <tbody>\n",
       "    <tr>\n",
       "      <th>0</th>\n",
       "      <td>0.0</td>\n",
       "      <td>0.0</td>\n",
       "      <td>0.0</td>\n",
       "      <td>0.0</td>\n",
       "    </tr>\n",
       "    <tr>\n",
       "      <th>1</th>\n",
       "      <td>0.0</td>\n",
       "      <td>0.0</td>\n",
       "      <td>0.0</td>\n",
       "      <td>0.0</td>\n",
       "    </tr>\n",
       "    <tr>\n",
       "      <th>2</th>\n",
       "      <td>0.0</td>\n",
       "      <td>0.0</td>\n",
       "      <td>0.0</td>\n",
       "      <td>0.0</td>\n",
       "    </tr>\n",
       "    <tr>\n",
       "      <th>3</th>\n",
       "      <td>0.0</td>\n",
       "      <td>0.0</td>\n",
       "      <td>0.0</td>\n",
       "      <td>0.0</td>\n",
       "    </tr>\n",
       "    <tr>\n",
       "      <th>4</th>\n",
       "      <td>0.0</td>\n",
       "      <td>0.0</td>\n",
       "      <td>0.0</td>\n",
       "      <td>0.0</td>\n",
       "    </tr>\n",
       "    <tr>\n",
       "      <th>5</th>\n",
       "      <td>0.0</td>\n",
       "      <td>0.0</td>\n",
       "      <td>0.0</td>\n",
       "      <td>0.0</td>\n",
       "    </tr>\n",
       "    <tr>\n",
       "      <th>6</th>\n",
       "      <td>0.0</td>\n",
       "      <td>0.0</td>\n",
       "      <td>0.0</td>\n",
       "      <td>0.0</td>\n",
       "    </tr>\n",
       "    <tr>\n",
       "      <th>7</th>\n",
       "      <td>0.0</td>\n",
       "      <td>0.0</td>\n",
       "      <td>0.0</td>\n",
       "      <td>0.0</td>\n",
       "    </tr>\n",
       "    <tr>\n",
       "      <th>8</th>\n",
       "      <td>0.0</td>\n",
       "      <td>0.0</td>\n",
       "      <td>0.0</td>\n",
       "      <td>0.0</td>\n",
       "    </tr>\n",
       "    <tr>\n",
       "      <th>9</th>\n",
       "      <td>0.0</td>\n",
       "      <td>0.0</td>\n",
       "      <td>0.0</td>\n",
       "      <td>0.0</td>\n",
       "    </tr>\n",
       "  </tbody>\n",
       "</table>\n",
       "</div>"
      ],
      "text/plain": [
       "   Slope  Intercept  P value  R^2\n",
       "0    0.0        0.0      0.0  0.0\n",
       "1    0.0        0.0      0.0  0.0\n",
       "2    0.0        0.0      0.0  0.0\n",
       "3    0.0        0.0      0.0  0.0\n",
       "4    0.0        0.0      0.0  0.0\n",
       "5    0.0        0.0      0.0  0.0\n",
       "6    0.0        0.0      0.0  0.0\n",
       "7    0.0        0.0      0.0  0.0\n",
       "8    0.0        0.0      0.0  0.0\n",
       "9    0.0        0.0      0.0  0.0"
      ]
     },
     "execution_count": 35,
     "metadata": {},
     "output_type": "execute_result"
    }
   ],
   "source": [
    "KLR"
   ]
  },
  {
   "cell_type": "code",
   "execution_count": 39,
   "metadata": {},
   "outputs": [
    {
     "name": "stdout",
     "output_type": "stream",
     "text": [
      "0\n",
      "1\n",
      "2\n",
      "3\n",
      "4\n",
      "5\n",
      "6\n",
      "7\n",
      "8\n",
      "9\n"
     ]
    }
   ],
   "source": [
    "for itera in range(10):\n",
    "    print(itera)"
   ]
  },
  {
   "cell_type": "code",
   "execution_count": 42,
   "metadata": {},
   "outputs": [],
   "source": [
    "KLR.iloc[0, :] = 1, 2, 3, 4"
   ]
  },
  {
   "cell_type": "code",
   "execution_count": 43,
   "metadata": {},
   "outputs": [
    {
     "data": {
      "text/html": [
       "<div>\n",
       "<style scoped>\n",
       "    .dataframe tbody tr th:only-of-type {\n",
       "        vertical-align: middle;\n",
       "    }\n",
       "\n",
       "    .dataframe tbody tr th {\n",
       "        vertical-align: top;\n",
       "    }\n",
       "\n",
       "    .dataframe thead th {\n",
       "        text-align: right;\n",
       "    }\n",
       "</style>\n",
       "<table border=\"1\" class=\"dataframe\">\n",
       "  <thead>\n",
       "    <tr style=\"text-align: right;\">\n",
       "      <th></th>\n",
       "      <th>Slope</th>\n",
       "      <th>Intercept</th>\n",
       "      <th>P value</th>\n",
       "      <th>R^2</th>\n",
       "    </tr>\n",
       "  </thead>\n",
       "  <tbody>\n",
       "    <tr>\n",
       "      <th>0</th>\n",
       "      <td>1.0</td>\n",
       "      <td>2.0</td>\n",
       "      <td>3.0</td>\n",
       "      <td>4.0</td>\n",
       "    </tr>\n",
       "    <tr>\n",
       "      <th>1</th>\n",
       "      <td>0.0</td>\n",
       "      <td>0.0</td>\n",
       "      <td>0.0</td>\n",
       "      <td>0.0</td>\n",
       "    </tr>\n",
       "    <tr>\n",
       "      <th>2</th>\n",
       "      <td>0.0</td>\n",
       "      <td>0.0</td>\n",
       "      <td>0.0</td>\n",
       "      <td>0.0</td>\n",
       "    </tr>\n",
       "    <tr>\n",
       "      <th>3</th>\n",
       "      <td>0.0</td>\n",
       "      <td>0.0</td>\n",
       "      <td>0.0</td>\n",
       "      <td>0.0</td>\n",
       "    </tr>\n",
       "    <tr>\n",
       "      <th>4</th>\n",
       "      <td>0.0</td>\n",
       "      <td>0.0</td>\n",
       "      <td>0.0</td>\n",
       "      <td>0.0</td>\n",
       "    </tr>\n",
       "    <tr>\n",
       "      <th>5</th>\n",
       "      <td>0.0</td>\n",
       "      <td>0.0</td>\n",
       "      <td>0.0</td>\n",
       "      <td>0.0</td>\n",
       "    </tr>\n",
       "    <tr>\n",
       "      <th>6</th>\n",
       "      <td>0.0</td>\n",
       "      <td>0.0</td>\n",
       "      <td>0.0</td>\n",
       "      <td>0.0</td>\n",
       "    </tr>\n",
       "    <tr>\n",
       "      <th>7</th>\n",
       "      <td>0.0</td>\n",
       "      <td>0.0</td>\n",
       "      <td>0.0</td>\n",
       "      <td>0.0</td>\n",
       "    </tr>\n",
       "    <tr>\n",
       "      <th>8</th>\n",
       "      <td>0.0</td>\n",
       "      <td>0.0</td>\n",
       "      <td>0.0</td>\n",
       "      <td>0.0</td>\n",
       "    </tr>\n",
       "    <tr>\n",
       "      <th>9</th>\n",
       "      <td>0.0</td>\n",
       "      <td>0.0</td>\n",
       "      <td>0.0</td>\n",
       "      <td>0.0</td>\n",
       "    </tr>\n",
       "  </tbody>\n",
       "</table>\n",
       "</div>"
      ],
      "text/plain": [
       "   Slope  Intercept  P value  R^2\n",
       "0    1.0        2.0      3.0  4.0\n",
       "1    0.0        0.0      0.0  0.0\n",
       "2    0.0        0.0      0.0  0.0\n",
       "3    0.0        0.0      0.0  0.0\n",
       "4    0.0        0.0      0.0  0.0\n",
       "5    0.0        0.0      0.0  0.0\n",
       "6    0.0        0.0      0.0  0.0\n",
       "7    0.0        0.0      0.0  0.0\n",
       "8    0.0        0.0      0.0  0.0\n",
       "9    0.0        0.0      0.0  0.0"
      ]
     },
     "execution_count": 43,
     "metadata": {},
     "output_type": "execute_result"
    }
   ],
   "source": [
    "KLR"
   ]
  },
  {
   "cell_type": "code",
   "execution_count": null,
   "metadata": {},
   "outputs": [],
   "source": []
  }
 ],
 "metadata": {
  "kernelspec": {
   "display_name": "Python 3",
   "language": "python",
   "name": "python3"
  },
  "language_info": {
   "codemirror_mode": {
    "name": "ipython",
    "version": 3
   },
   "file_extension": ".py",
   "mimetype": "text/x-python",
   "name": "python",
   "nbconvert_exporter": "python",
   "pygments_lexer": "ipython3",
   "version": "3.6.5"
  }
 },
 "nbformat": 4,
 "nbformat_minor": 2
}
