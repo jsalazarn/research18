{
 "cells": [
  {
   "cell_type": "code",
   "execution_count": 1,
   "metadata": {
    "collapsed": true
   },
   "outputs": [],
   "source": [
    "import pandas as pd\n",
    "import numpy as np\n",
    "from pandas import Series, DataFrame\n",
    "import os\n",
    "import seaborn as sns\n",
    "import matplotlib as mpl\n",
    "import matplotlib.pyplot as plt\n",
    "sns.set()\n",
    "%matplotlib notebook"
   ]
  },
  {
   "cell_type": "code",
   "execution_count": 2,
   "metadata": {
    "collapsed": true
   },
   "outputs": [],
   "source": [
    "def KovalT(mean_log, sd_log, mean_nor, sd_nor, sizen, iteras):\n",
    "    \"\"\"\n",
    "    This function computes and stores the linear regression results of\n",
    "    the Koval plot. Parameters:\n",
    "    Permeability: lognormal; mean and standard deviation\n",
    "    Porosity: normal; mean and standard deviation\n",
    "    sizen: number of points of the data sets\n",
    "    iteras: the number of linear regression analysis to be performed.\n",
    "    \"\"\"\n",
    "    \n",
    "    KLR = pd.DataFrame(np.zeros((iteras, 7)),\n",
    "                      columns=['Porosity Mean', 'Permeability Mean', 'Slope', 'Intercept',\n",
    "                               'P value', 'R^2', 'Standard Error']) # initializing DataFrame of results\n",
    "    \n",
    "    for itera in np.arange(iteras):\n",
    "        # Compute the mean and standard deviation of lognormal pdf in terms of\n",
    "        # the normal distribution\n",
    "        normal_std = np.sqrt(np.log(1 + (sd_log/mean_log)**2))\n",
    "        normal_mean = np.log(mean_log) - normal_std**2 / 2\n",
    "        \n",
    "        # Create DataFrame and permeability and porosity columns\n",
    "        x = pd.DataFrame(np.random.lognormal(normal_mean, normal_std, size=sizen),\n",
    "                         columns=['permeability'])\n",
    "        x['porosity'] = np.random.normal(mean_nor, sd_nor, size=sizen)\n",
    "        \n",
    "        # Obtain the total sum of both permeability and porosity\n",
    "        sumk = x['permeability'].sum()\n",
    "        sumphi = x['porosity'].sum()\n",
    "        x['interst vel'] = x['permeability'] / x['porosity'] # Interstitial velocity\n",
    "        \n",
    "        # Sort the interstitial velocity in descending order\n",
    "        x.sort_values(by=['interst vel'], ascending=False, inplace=True)\n",
    "        \n",
    "        k1 = np.cumsum(pd.DataFrame(x['permeability']))\n",
    "        phi1 = np.cumsum(pd.DataFrame(x['porosity']))\n",
    "        x['(1-F)/F'] = (sumk / k1) - 1\n",
    "        x['(1-C)/C'] = (sumphi / phi1) - 1\n",
    "        x.where(x > 0, 0, inplace=True) # if there are negative values in the DataFrame, replace them with 0\n",
    "        x.drop(['interst vel'], axis=1, inplace=True)\n",
    "        \n",
    "        # Linear regression\n",
    "        slope, intercept, r_value, p_value, std_err = stats.linregress(\n",
    "        x['(1-C)/C'], x['(1-F)/F'])\n",
    "        \n",
    "        KLR.iloc[itera, 0:2] = (x['porosity'].mean(), x['permeability'].mean())\n",
    "        KLR.iloc[itera, 2:] = slope, intercept, p_value, r_value ** 2, std_err\n",
    "        \n",
    "    return KLR"
   ]
  },
  {
   "cell_type": "code",
   "execution_count": 3,
   "metadata": {
    "collapsed": true
   },
   "outputs": [],
   "source": [
    "os.chdir('C:\\\\Users\\\\Public\\\\Documents\\\\Python Scripts')"
   ]
  },
  {
   "cell_type": "code",
   "execution_count": 4,
   "metadata": {
    "collapsed": true
   },
   "outputs": [],
   "source": [
    "reb = pd.read_excel('REBk_phi.xlsx')"
   ]
  },
  {
   "cell_type": "code",
   "execution_count": 6,
   "metadata": {},
   "outputs": [
    {
     "data": {
      "text/html": [
       "<div>\n",
       "<style>\n",
       "    .dataframe thead tr:only-child th {\n",
       "        text-align: right;\n",
       "    }\n",
       "\n",
       "    .dataframe thead th {\n",
       "        text-align: left;\n",
       "    }\n",
       "\n",
       "    .dataframe tbody tr th {\n",
       "        vertical-align: top;\n",
       "    }\n",
       "</style>\n",
       "<table border=\"1\" class=\"dataframe\">\n",
       "  <thead>\n",
       "    <tr style=\"text-align: right;\">\n",
       "      <th></th>\n",
       "      <th>KH</th>\n",
       "      <th>KV</th>\n",
       "      <th>PHIH</th>\n",
       "      <th>PHIV</th>\n",
       "    </tr>\n",
       "  </thead>\n",
       "  <tbody>\n",
       "    <tr>\n",
       "      <th>count</th>\n",
       "      <td>32.000000</td>\n",
       "      <td>18.000000</td>\n",
       "      <td>32.000000</td>\n",
       "      <td>11.000000</td>\n",
       "    </tr>\n",
       "    <tr>\n",
       "      <th>mean</th>\n",
       "      <td>13.331815</td>\n",
       "      <td>127.004255</td>\n",
       "      <td>8.984377</td>\n",
       "      <td>9.104359</td>\n",
       "    </tr>\n",
       "    <tr>\n",
       "      <th>std</th>\n",
       "      <td>21.442571</td>\n",
       "      <td>478.971813</td>\n",
       "      <td>2.026648</td>\n",
       "      <td>1.375540</td>\n",
       "    </tr>\n",
       "    <tr>\n",
       "      <th>min</th>\n",
       "      <td>0.203718</td>\n",
       "      <td>0.123551</td>\n",
       "      <td>4.835198</td>\n",
       "      <td>6.464286</td>\n",
       "    </tr>\n",
       "    <tr>\n",
       "      <th>25%</th>\n",
       "      <td>3.341782</td>\n",
       "      <td>1.282868</td>\n",
       "      <td>7.434690</td>\n",
       "      <td>8.302486</td>\n",
       "    </tr>\n",
       "    <tr>\n",
       "      <th>50%</th>\n",
       "      <td>6.941350</td>\n",
       "      <td>3.978017</td>\n",
       "      <td>8.877545</td>\n",
       "      <td>9.159441</td>\n",
       "    </tr>\n",
       "    <tr>\n",
       "      <th>75%</th>\n",
       "      <td>12.462531</td>\n",
       "      <td>10.583710</td>\n",
       "      <td>10.550490</td>\n",
       "      <td>9.940066</td>\n",
       "    </tr>\n",
       "    <tr>\n",
       "      <th>max</th>\n",
       "      <td>114.474859</td>\n",
       "      <td>2039.793001</td>\n",
       "      <td>13.512994</td>\n",
       "      <td>11.054904</td>\n",
       "    </tr>\n",
       "  </tbody>\n",
       "</table>\n",
       "</div>"
      ],
      "text/plain": [
       "               KH           KV       PHIH       PHIV\n",
       "count   32.000000    18.000000  32.000000  11.000000\n",
       "mean    13.331815   127.004255   8.984377   9.104359\n",
       "std     21.442571   478.971813   2.026648   1.375540\n",
       "min      0.203718     0.123551   4.835198   6.464286\n",
       "25%      3.341782     1.282868   7.434690   8.302486\n",
       "50%      6.941350     3.978017   8.877545   9.159441\n",
       "75%     12.462531    10.583710  10.550490   9.940066\n",
       "max    114.474859  2039.793001  13.512994  11.054904"
      ]
     },
     "execution_count": 6,
     "metadata": {},
     "output_type": "execute_result"
    }
   ],
   "source": [
    "reb.describe()"
   ]
  },
  {
   "cell_type": "code",
   "execution_count": 7,
   "metadata": {
    "collapsed": true
   },
   "outputs": [],
   "source": [
    "import random"
   ]
  },
  {
   "cell_type": "code",
   "execution_count": 40,
   "metadata": {},
   "outputs": [
    {
     "data": {
      "text/plain": [
       "[6, 8]"
      ]
     },
     "execution_count": 40,
     "metadata": {},
     "output_type": "execute_result"
    }
   ],
   "source": [
    "random.sample(list(df.loc[:, 'A']), 2)"
   ]
  },
  {
   "cell_type": "code",
   "execution_count": 38,
   "metadata": {},
   "outputs": [
    {
     "data": {
      "text/plain": [
       "[5, 6, 8, 8]"
      ]
     },
     "execution_count": 38,
     "metadata": {},
     "output_type": "execute_result"
    }
   ],
   "source": [
    "def KovalF(mean_log, sd_log, mean_nor, sd_nor, sizen, iteras):\n",
    "    \"\"\"\n",
    "    This function computes and stores the linear regression results of\n",
    "    the Koval plot. Parameters:\n",
    "    Permeability: lognormal; mean and standard deviation\n",
    "    Porosity: normal; mean and standard deviation\n",
    "    sizen: number of points of the data sets\n",
    "    iteras: the number of linear regression analysis to be performed.\n",
    "    \"\"\"\n",
    "    \n",
    "    import random\n",
    "    \n",
    "    KLR = pd.DataFrame(np.zeros((iteras, 7)),\n",
    "                      columns=['Porosity Mean', 'Permeability Mean', 'Slope', 'Intercept',\n",
    "                               'P value', 'R^2', 'Standard Error']) # initializing DataFrame of results\n",
    "    \n",
    "    for itera in np.arange(iteras):\n",
    "        # Compute the mean and standard deviation of lognormal pdf in terms of\n",
    "        # the normal distribution\n",
    "        normal_std = np.sqrt(np.log(1 + (sd_log/mean_log)**2))\n",
    "        normal_mean = np.log(mean_log) - normal_std**2 / 2\n",
    "        \n",
    "        # Create DataFrame and permeability and porosity columns\n",
    "        sample_ind = random.sample(np.arange(sizen), np.floor(0.1 * sizen))\n",
    "        x = pd.DataFrame(np.random.lognormal(normal_mean, normal_std, size=sizen),\n",
    "                         columns=['permeability'])\n",
    "        x.iloc['porosity'] = np.random.normal(mean_nor, sd_nor, size=sizen)\n",
    "        \n",
    "        # Obtain the total sum of both permeability and porosity\n",
    "        sumk = x['permeability'].sum()\n",
    "        sumphi = x['porosity'].sum()\n",
    "        x['interst vel'] = x['permeability'] / x['porosity'] # Interstitial velocity\n",
    "        \n",
    "        # Sort the interstitial velocity in descending order\n",
    "        x.sort_values(by=['interst vel'], ascending=False, inplace=True)\n",
    "        \n",
    "        k1 = np.cumsum(pd.DataFrame(x['permeability']))\n",
    "        phi1 = np.cumsum(pd.DataFrame(x['porosity']))\n",
    "        x['(1-F)/F'] = (sumk / k1) - 1\n",
    "        x['(1-C)/C'] = (sumphi / phi1) - 1\n",
    "        x.where(x > 0, 0, inplace=True) # if there are negative values in the DataFrame, replace them with 0\n",
    "        x.drop(['interst vel'], axis=1, inplace=True)\n",
    "        \n",
    "        # Linear regression\n",
    "        slope, intercept, r_value, p_value, std_err = stats.linregress(\n",
    "        x['(1-C)/C'], x['(1-F)/F'])\n",
    "        \n",
    "        KLR.iloc[itera, 0:2] = (x['porosity'].mean(), x['permeability'].mean())\n",
    "        KLR.iloc[itera, 2:] = slope, intercept, p_value, r_value ** 2, std_err\n",
    "        \n",
    "    return KLR"
   ]
  },
  {
   "cell_type": "code",
   "execution_count": 42,
   "metadata": {},
   "outputs": [
    {
     "data": {
      "text/html": [
       "<div>\n",
       "<style>\n",
       "    .dataframe thead tr:only-child th {\n",
       "        text-align: right;\n",
       "    }\n",
       "\n",
       "    .dataframe thead th {\n",
       "        text-align: left;\n",
       "    }\n",
       "\n",
       "    .dataframe tbody tr th {\n",
       "        vertical-align: top;\n",
       "    }\n",
       "</style>\n",
       "<table border=\"1\" class=\"dataframe\">\n",
       "  <thead>\n",
       "    <tr style=\"text-align: right;\">\n",
       "      <th></th>\n",
       "      <th>A</th>\n",
       "      <th>B</th>\n",
       "      <th>C</th>\n",
       "      <th>D</th>\n",
       "    </tr>\n",
       "  </thead>\n",
       "  <tbody>\n",
       "    <tr>\n",
       "      <th>0</th>\n",
       "      <td>5</td>\n",
       "      <td>4</td>\n",
       "      <td>3</td>\n",
       "      <td>2</td>\n",
       "    </tr>\n",
       "    <tr>\n",
       "      <th>1</th>\n",
       "      <td>6</td>\n",
       "      <td>7</td>\n",
       "      <td>5</td>\n",
       "      <td>7</td>\n",
       "    </tr>\n",
       "    <tr>\n",
       "      <th>2</th>\n",
       "      <td>8</td>\n",
       "      <td>2</td>\n",
       "      <td>1</td>\n",
       "      <td>8</td>\n",
       "    </tr>\n",
       "    <tr>\n",
       "      <th>3</th>\n",
       "      <td>8</td>\n",
       "      <td>3</td>\n",
       "      <td>6</td>\n",
       "      <td>2</td>\n",
       "    </tr>\n",
       "  </tbody>\n",
       "</table>\n",
       "</div>"
      ],
      "text/plain": [
       "   A  B  C  D\n",
       "0  5  4  3  2\n",
       "1  6  7  5  7\n",
       "2  8  2  1  8\n",
       "3  8  3  6  2"
      ]
     },
     "execution_count": 42,
     "metadata": {},
     "output_type": "execute_result"
    }
   ],
   "source": [
    "df"
   ]
  },
  {
   "cell_type": "code",
   "execution_count": 68,
   "metadata": {},
   "outputs": [],
   "source": [
    "pepe = [3, 1]"
   ]
  },
  {
   "cell_type": "code",
   "execution_count": 69,
   "metadata": {},
   "outputs": [
    {
     "data": {
      "text/plain": [
       "3    6\n",
       "1    5\n",
       "Name: C, dtype: int32"
      ]
     },
     "execution_count": 69,
     "metadata": {},
     "output_type": "execute_result"
    }
   ],
   "source": [
    "df.iloc[pepe, 2]"
   ]
  },
  {
   "cell_type": "code",
   "execution_count": 71,
   "metadata": {},
   "outputs": [
    {
     "data": {
      "text/plain": [
       "[0, 1, 2, 3, 4, 5, 6, 7, 8, 9]"
      ]
     },
     "execution_count": 71,
     "metadata": {},
     "output_type": "execute_result"
    }
   ],
   "source": [
    "list(np.arange(10))"
   ]
  },
  {
   "cell_type": "code",
   "execution_count": null,
   "metadata": {
    "collapsed": true
   },
   "outputs": [],
   "source": []
  }
 ],
 "metadata": {
  "kernelspec": {
   "display_name": "Python 3",
   "language": "python",
   "name": "python3"
  },
  "language_info": {
   "codemirror_mode": {
    "name": "ipython",
    "version": 3
   },
   "file_extension": ".py",
   "mimetype": "text/x-python",
   "name": "python",
   "nbconvert_exporter": "python",
   "pygments_lexer": "ipython3",
   "version": "3.6.3"
  }
 },
 "nbformat": 4,
 "nbformat_minor": 2
}
